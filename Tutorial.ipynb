{
 "cells": [
  {
   "cell_type": "markdown",
   "metadata": {},
   "source": [
    "# Natural Language Processing\n",
    "\n",
    "Natural Language Processing (NLP) is field of research and application at the intersection of computation linguistics, computer science, and statistics.  The goal of NLP is to make sense of \"natural language\" data.  "
   ]
  },
  {
   "cell_type": "markdown",
   "metadata": {},
   "source": [
    "This tutorial will introduce the following NLP python libraries:\n",
    "1. NLTK\n",
    "2. SpaCy\n",
    "3. TextBlob\n",
    "4. gensim\n",
    "\n",
    "I will show how to install and use these packages within the Anaconda python distribution.  Please see the website for each package for more general installation instructions.  "
   ]
  },
  {
   "cell_type": "markdown",
   "metadata": {},
   "source": [
    "## NLTK\n",
    "\n",
    "NLTK (https://www.nltk.org/) or natural language toolkit is one of the oldest NLP libraries.  It is a massive library with many built in corpora and pre-trained models. NLTK come pre-installed with the Anaconda python distribution.  "
   ]
  },
  {
   "cell_type": "markdown",
   "metadata": {},
   "source": []
  }
 ],
 "metadata": {
  "kernelspec": {
   "display_name": "Python 3",
   "language": "python",
   "name": "python3"
  },
  "language_info": {
   "codemirror_mode": {
    "name": "ipython",
    "version": 3
   },
   "file_extension": ".py",
   "mimetype": "text/x-python",
   "name": "python",
   "nbconvert_exporter": "python",
   "pygments_lexer": "ipython3",
   "version": "3.7.4"
  }
 },
 "nbformat": 4,
 "nbformat_minor": 2
}
